{
  "nbformat": 4,
  "nbformat_minor": 0,
  "metadata": {
    "colab": {
      "name": "ComparisonOfAllGD.ipynb",
      "provenance": [],
      "collapsed_sections": [],
      "include_colab_link": true
    },
    "kernelspec": {
      "name": "python3",
      "display_name": "Python 3"
    }
  },
  "cells": [
    {
      "cell_type": "markdown",
      "metadata": {
        "id": "view-in-github",
        "colab_type": "text"
      },
      "source": [
        "<a href=\"https://colab.research.google.com/github/aborundiya/NeuralNetwork/blob/master/ComparisonOfAllGD.ipynb\" target=\"_parent\"><img src=\"https://colab.research.google.com/assets/colab-badge.svg\" alt=\"Open In Colab\"/></a>"
      ]
    },
    {
      "cell_type": "code",
      "metadata": {
        "id": "XTZvYREOE-UW",
        "colab_type": "code",
        "colab": {}
      },
      "source": [
        "from mpl_toolkits.mplot3d import Axes3D\n",
        "import matplotlib.pyplot as plt\n",
        "\n",
        "from matplotlib import cm\n",
        "import matplotlib.colors\n",
        "\n",
        "from matplotlib import animation, rc\n",
        "from IPython.display import HTML\n",
        "\n",
        "import numpy as np"
      ],
      "execution_count": 0,
      "outputs": []
    },
    {
      "cell_type": "code",
      "metadata": {
        "id": "mWNS2HPEYVJY",
        "colab_type": "code",
        "colab": {}
      },
      "source": [
        "class SN:\n",
        "\n",
        "  def __init__(self, w_init, b_init, algo ):\n",
        "    self.w = w_init\n",
        "    self.b = b_init\n",
        "    self.w_h = []\n",
        "    self.b_h = []\n",
        "    self.e_h = []\n",
        "    self.algo = algo\n",
        "  \n",
        "  def sigmoid(self, x, w = None, b = None ):\n",
        "    if w is None:\n",
        "      w = self.w\n",
        "    if b is None:\n",
        "      b = self.b\n",
        "    return 1.0 / ( 1.0 + np.exp(-(w * x + b )))\n",
        "  \n",
        "  def error(self, X, Y, w = None , b = None):\n",
        "    if w is None:\n",
        "      w = self.w\n",
        "    if b is None: \n",
        "      b = self.b\n",
        "    err = 0 \n",
        "    for x, y in zip(X,Y):\n",
        "      err += 0.5 * (self.sigmoid(x, w , b ) - y) ** 2\n",
        "    return err\n",
        "  \n",
        "  def grad_w( self, x ,y, w = None, b = None):\n",
        "    if w is None:\n",
        "      w =self.w\n",
        "    if b is None:\n",
        "      b = self.b\n",
        "    y_pred = self.sigmoid(x,w,b)\n",
        "    return (y_pred - y) * y_pred * (1 - y_pred) * x \n",
        "  \n",
        "  def grad_b( self, x ,y, w = None, b = None):\n",
        "    if w is None:\n",
        "      w =self.w\n",
        "    if b is None:\n",
        "      b = self.b\n",
        "    y_pred = self.sigmoid(x,w,b)\n",
        "    return (y_pred - y) * y_pred * (1 - y_pred)\n",
        "\n",
        "  def fit( self, X, Y, epochs = 100, eta = 0.01, gamma = 0.9,\n",
        "          mini_batch_size =100, eps = 1e-8 , beta = 0.9, beta1 = 0.9, beta2 =0.9):\n",
        "    self.w_h = []\n",
        "    self.b_h = []\n",
        "    self.e_h = []      \n",
        "    self.X = X \n",
        "    self.Y = Y\n",
        "\n",
        "    if self.algo == \"GD\": \n",
        "      for i in range(epochs):\n",
        "        dw , db = 0 , 0\n",
        "        for x, y in zip(X,Y):\n",
        "          dw += self.grad_w(x,y)\n",
        "          db += self.grad_b(x,y)\n",
        "        self.w -= eta * dw / X.shape[0]\n",
        "        self.b -= eta * db / X.shape[0]\n",
        "        self.append_log()\n",
        "    \n",
        "    if self.algo == \"Momentum\":\n",
        "      v_w , v_b = 0 , 0 \n",
        "      for i in range(epochs):\n",
        "        dw , db = 0 , 0 \n",
        "        for x ,y in zip(X,Y):\n",
        "          dw += self.grad_w(x,y)\n",
        "          db += self.grad_b(x,y)\n",
        "        \n",
        "        v_w = gamma * v_w + eta * dw / X.shape[0] \n",
        "        v_b = gamma * v_b + eta * db / X.shape[0]\n",
        "        self.w -= v_w \n",
        "        self.b -= v_b\n",
        "        self.append_log()\n",
        "\n",
        "\n",
        "  def append_log(self):\n",
        "    self.w_h.append(self.w)\n",
        "    self.b_h.append(self.b)\n",
        "    self.e_h.append(self.error(self.X,self.Y))"
      ],
      "execution_count": 0,
      "outputs": []
    },
    {
      "cell_type": "code",
      "metadata": {
        "id": "M0i15K7GUD-k",
        "colab_type": "code",
        "colab": {}
      },
      "source": [
        "X = np.array([0.5,2.5])\n",
        "Y = np.array([0.2,0.9])\n",
        "\n",
        "algo = \"GD\"\n",
        "\n",
        "w_init = -2 \n",
        "b_init = -2\n",
        "\n",
        "epochs = 1000\n",
        "eta = 1 \n",
        "\n",
        "w_min = -7 \n",
        "w_max = 5 \n",
        "\n",
        "b_min = -7\n",
        "b_max = 5 \n",
        "\n",
        "animation_frames = 20 \n",
        "plot_3d = False \n",
        "plot_2d = True "
      ],
      "execution_count": 0,
      "outputs": []
    },
    {
      "cell_type": "code",
      "metadata": {
        "id": "J2b3PxfTTFxL",
        "colab_type": "code",
        "outputId": "33016e17-74a9-441f-905e-565a4196a610",
        "colab": {
          "base_uri": "https://localhost:8080/",
          "height": 265
        }
      },
      "source": [
        "sn = SN(w_init, b_init, algo)\n",
        "sn.fit(X, Y, epochs , eta )\n",
        "plt.plot(sn.e_h, 'r')\n",
        "plt.plot(sn.w_h, 'b')\n",
        "plt.plot(sn.b_h, 'g')\n",
        "\n",
        "plt.show()"
      ],
      "execution_count": 59,
      "outputs": [
        {
          "output_type": "display_data",
          "data": {
            "image/png": "[encoded data removed]",
            "text/plain": [
              "<Figure size 432x288 with 1 Axes>"
            ]
          },
          "metadata": {
            "tags": []
          }
        }
      ]
    },
    {
      "cell_type": "code",
      "metadata": {
        "id": "R7OrXNO0RxBv",
        "colab_type": "code",
        "colab": {}
      },
      "source": [
        "if plot_3d : \n",
        "  W = np.linspace(w_min, w_max, 256)\n",
        "  B = np.linspace(b_min, b_max, 256)\n",
        "  WW, BB = np.meshgrid(W, B)\n",
        "  Z = sn.error(X, Y, WW, BB)\n",
        "\n",
        "  fig = plt.figure(dpi=100)\n",
        "  ax = fig.gca(projection='3d')\n",
        "  surf = ax.plot_surface(WW, BB, Z, rstride=3, cstride=3, alpha=0.5, cmap=cm.coolwarm, linewidth=0, antialiased=False)\n",
        "  cset = ax.contourf(WW, BB, Z, 25, zdir='z', offset=-1, alpha=0.6, cmap=cm.coolwarm)\n",
        "  ax.set_xlabel('w')\n",
        "  ax.set_xlim(w_min - 1, w_max + 1)\n",
        "  ax.set_ylabel('b')\n",
        "  ax.set_ylim(b_min - 1, b_max + 1)\n",
        "  ax.set_zlabel('error')\n",
        "  ax.set_zlim(-1, np.max(Z))\n",
        "  ax.view_init (elev=25, azim=-75) # azim = -20\n",
        "  ax.dist=12  \n",
        "  title = ax.set_title('Epoch 0')\n",
        "  \n",
        "\n"
      ],
      "execution_count": 0,
      "outputs": []
    },
    {
      "cell_type": "code",
      "metadata": {
        "id": "IPnsch3acyR6",
        "colab_type": "code",
        "colab": {}
      },
      "source": [
        "def plot_animate_3d(i):\n",
        "  i = int( i * (epoch/animation_frames ))\n",
        "  line1.set_data(sn.w_h[:i+1], sn.b_h[:i+1])\n",
        "  line1.set_3d_properties(sn.e_h[:i+1])\n",
        "  line2.set_data(sn.w_h[:i+1],sn.b_h[:i+1])\n",
        "  line2.set_3d_properties(np.zeros(i+1)-1)\n",
        "  title.set_text('Epoch : {:d}, Error :{:.4f}'.format(i,sn.e_h[i]))\n",
        "  return line1, line2 , title \n",
        "\n"
      ],
      "execution_count": 0,
      "outputs": []
    },
    {
      "cell_type": "code",
      "metadata": {
        "id": "JJPEMjAXaziV",
        "colab_type": "code",
        "colab": {}
      },
      "source": [
        "if plot_3d: \n",
        "  i = 0\n",
        "  line1, = ax.plot(sn.w_h[:i+1], sn.b_h[:i+1], sn.e_h[:i+1], color='black',marker='.')\n",
        "  line2, = ax.plot(sn.w_h[:i+1], sn.b_h[:i+1], np.zeros(i+1) - 1, color='red', marker='.')\n",
        "  anim = animation.FuncAnimation(fig, func=plot_animate_3d, frames=animation_frames)\n",
        "  rc('animation', html='jshtml')\n",
        "  anim\n"
      ],
      "execution_count": 0,
      "outputs": []
    },
    {
      "cell_type": "code",
      "metadata": {
        "id": "xJJo3L-1cfm8",
        "colab_type": "code",
        "colab": {
          "base_uri": "https://localhost:8080/",
          "height": 404
        },
        "outputId": "1c02ff64-181d-43f9-a2b4-5ac4963c9ecc"
      },
      "source": [
        "if plot_2d:\n",
        "  W = np.linspace(w_min, w_max, 256)\n",
        "  B = np.linspace(w_min, w_max, 256)\n",
        "  WW, BB = np.meshgrid(W,B)\n",
        "  Z = sn.error(X,Y,WW,BB)\n",
        "\n",
        "  fig = plt.figure(dpi=100)\n",
        "  ax = plt.subplot(111)\n",
        "  ax.set_xlabel('w')\n",
        "  ax.set_xlim(w_min - 1, w_max + 1)\n",
        "  ax.set_ylabel('b')\n",
        "  ax.set_ylim(b_min - 1, b_max + 1)\n",
        "  title = ax.set_title('Epoch 0')\n",
        "  cset = plt.contourf(WW, BB, Z, 25, alpha=0.6, cmap=cm.bwr)\n",
        "  plt.show()\n"
      ],
      "execution_count": 63,
      "outputs": [
        {
          "output_type": "display_data",
          "data": {
            "image/png": "[encoded data removed]",
            "text/plain": [
              "<Figure size 600x400 with 1 Axes>"
            ]
          },
          "metadata": {
            "tags": []
          }
        }
      ]
    },
    {
      "cell_type": "code",
      "metadata": {
        "id": "KBy5gdtPUpAY",
        "colab_type": "code",
        "colab": {}
      },
      "source": [
        "def plot_animate_2d(i):\n",
        "  i = int(i*(epochs/animation_frames))\n",
        "  line.set_data(sn.w_h[:i+1], sn.b_h[:i+1])\n",
        "  title.set_text('Epoch: {: d}, Error: {:.4f}'.format(i, sn.e_h[i]))\n",
        "  print(\"inside plot\")\n",
        "  return line, title\n"
      ],
      "execution_count": 0,
      "outputs": []
    },
    {
      "cell_type": "code",
      "metadata": {
        "id": "a8AW5asLUrlw",
        "colab_type": "code",
        "colab": {
          "base_uri": "https://localhost:8080/",
          "height": 34
        },
        "outputId": "274997f3-35f4-4f81-a0eb-17341310e8b0"
      },
      "source": [
        "if plot_2d: \n",
        "  print(\"inside animation\")\n",
        "  i = 0\n",
        "  line, = ax.plot(sn.w_h[:i+1], sn.b_h[:i+1], color='black',marker='.')\n",
        "  anim = animation.FuncAnimation(fig, func = plot_animate_2d, frames=animation_frames)\n",
        "  rc('animation', html='jshtml')\n",
        "  anim\n",
        "  plt.show()"
      ],
      "execution_count": 75,
      "outputs": [
        {
          "output_type": "stream",
          "text": [
            "inside animation\n"
          ],
          "name": "stdout"
        }
      ]
    },
    {
      "cell_type": "code",
      "metadata": {
        "id": "FgcQohkgUuym",
        "colab_type": "code",
        "colab": {}
      },
      "source": [
        ""
      ],
      "execution_count": 0,
      "outputs": []
    }
  ]
}