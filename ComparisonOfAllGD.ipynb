{
  "nbformat": 4,
  "nbformat_minor": 0,
  "metadata": {
    "colab": {
      "name": "ComparisonOfAllGD.ipynb",
      "provenance": [],
      "include_colab_link": true
    },
    "kernelspec": {
      "name": "python3",
      "display_name": "Python 3"
    }
  },
  "cells": [
    {
      "cell_type": "markdown",
      "metadata": {
        "id": "view-in-github",
        "colab_type": "text"
      },
      "source": [
        "<a href=\"https://colab.research.google.com/github/aborundiya/NeuralNetwork/blob/master/ComparisonOfAllGD.ipynb\" target=\"_parent\"><img src=\"https://colab.research.google.com/assets/colab-badge.svg\" alt=\"Open In Colab\"/></a>"
      ]
    },
    {
      "cell_type": "code",
      "metadata": {
        "id": "XTZvYREOE-UW",
        "colab_type": "code",
        "colab": {}
      },
      "source": [
        "from mpl_toolkits.mplot3d import Axes3D\n",
        "import matplotlib.pyplot as plt\n",
        "from matplotlib import cm\n",
        "import matplotlib.colors\n",
        "from matplotlib import animation, rc\n",
        "from IPython.display import HTML\n",
        "import numpy as np"
      ],
      "execution_count": 0,
      "outputs": []
    },
    {
      "cell_type": "code",
      "metadata": {
        "id": "mWNS2HPEYVJY",
        "colab_type": "code",
        "colab": {}
      },
      "source": [
        "class SN:\n",
        "\n",
        "  def __init__(self, w_init, b_init, algo ):\n",
        "    self.w = w_init\n",
        "    self.b = b_init\n",
        "    self.w_h = []\n",
        "    self.b_h = []\n",
        "    self.e_h = []\n",
        "    self.algo = algo\n",
        "  \n",
        "  def sigmoid(self, x, w = None, b = None ):\n",
        "    if w is None:\n",
        "      w = self.w\n",
        "    if b is None:\n",
        "      b = self.b\n",
        "    return 1.0 / ( 1.0 + np.exp(-(w * x + b )))\n",
        "  \n",
        "  def error(self, X, Y):\n",
        "    if w is None:\n",
        "      w = self.w\n",
        "    if b is None: \n",
        "      b = self.b\n",
        "    err = 0 \n",
        "    for x, y in zip(X,Y):\n",
        "      err += 0.5 * (self.sigmoid(x, w , b ) - y) ** 2\n",
        "    return err\n",
        "  \n",
        "  def grad_w( self, x ,y, w = None, b = None):\n",
        "    if w is None:\n",
        "      w =self.w\n",
        "    if b is None:\n",
        "      b = self.b\n",
        "    y_pred = self.sigmoid(x,w,b)\n",
        "    return (y_pred - y) * y_pred * (1 - y_pred) * x \n",
        "  \n",
        "  def grad_b( self, x ,y, w = None, b = None):\n",
        "    if w is None:\n",
        "      w =self.w\n",
        "    if b is None:\n",
        "      b = self.b\n",
        "    y_pred = self.sigmoid(x,w,b)\n",
        "    return (y_pred - y) * y_pred * (1 - y_pred)\n",
        "\n",
        "  def fit( self, X, Y, epochs = 100, eta = 0.01, gamma = 0.9,\n",
        "          mini_batch_size =100, eps = 1e-8 , beta = 0.9, beta1 = 0.9, beta2 =0.9):\n",
        "    self.w_h = []\n",
        "    self.b_h = []\n",
        "    self.e_h = []      \n",
        "    self.X = X \n",
        "    self.Y = Y\n",
        "\n",
        "    if self.algo == \"GD\": \n",
        "      for i in range(epochs):\n",
        "        dw , db = 0 , 0\n",
        "        for x, y in zip(X,Y):\n",
        "          dw += self.grad_w(x,y)\n",
        "          db += self.grad_b(x,y)\n",
        "        self.w -= eta * dw / X.shape[0]\n",
        "        self.b -= eta * db / X.shape[0]\n",
        "        self.append_log()\n",
        "    \n",
        "    elif self.algo == \"Momentum\":\n",
        "      v_w , v_b = 0 , 0 \n",
        "      for i in range(epochs):\n",
        "        dw , db = 0 , 0 \n",
        "        for x ,y in zip(X,Y):\n",
        "          dw += self.grad_w(x,y)\n",
        "          db += self.grad_b(x,y)\n",
        "        \n",
        "        v_w += eta * dw / X.shape[0] \n",
        "        v_b += eta * db / X.shape[0]\n",
        "        \n",
        "        dw -= v_w\n",
        "        db -= v_b\n",
        "\n"
      ],
      "execution_count": 0,
      "outputs": []
    },
    {
      "cell_type": "code",
      "metadata": {
        "id": "M0i15K7GUD-k",
        "colab_type": "code",
        "colab": {}
      },
      "source": [
        ""
      ],
      "execution_count": 0,
      "outputs": []
    }
  ]
}