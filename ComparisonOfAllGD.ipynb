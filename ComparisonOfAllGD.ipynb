{
  "nbformat": 4,
  "nbformat_minor": 0,
  "metadata": {
    "colab": {
      "name": "ComparisonOfAllGD.ipynb",
      "provenance": [],
      "include_colab_link": true
    },
    "kernelspec": {
      "name": "python3",
      "display_name": "Python 3"
    }
  },
  "cells": [
    {
      "cell_type": "markdown",
      "metadata": {
        "id": "view-in-github",
        "colab_type": "text"
      },
      "source": [
        "<a href=\"https://colab.research.google.com/github/aborundiya/NeuralNetwork/blob/master/ComparisonOfAllGD.ipynb\" target=\"_parent\"><img src=\"https://colab.research.google.com/assets/colab-badge.svg\" alt=\"Open In Colab\"/></a>"
      ]
    },
    {
      "cell_type": "code",
      "metadata": {
        "id": "XTZvYREOE-UW",
        "colab_type": "code",
        "colab": {}
      },
      "source": [
        "from mpl_toolkits.mplot3d import Axes3D\n",
        "import matplotlib.pyplot as plt\n",
        "from matplotlib import cm\n",
        "import matplotlib.colors\n",
        "from matplotlib import animation, rc\n",
        "from IPython.display import HTML\n",
        "import numpy as np"
      ],
      "execution_count": 0,
      "outputs": []
    },
    {
      "cell_type": "code",
      "metadata": {
        "id": "mWNS2HPEYVJY",
        "colab_type": "code",
        "colab": {}
      },
      "source": [
        "class SN:\n",
        "\n",
        "  def __init__(self, w_init, b_init, algo ):\n",
        "    self.w = w_init\n",
        "    self.b = b_init\n",
        "    self.w_h = []\n",
        "    self.b_h = []\n",
        "    self.e_h = []\n",
        "    self.algo = algo\n",
        "  \n",
        "  def sigmoid(self, w = None, b = None ):\n",
        "    if w is None:\n",
        "      w = self.w\n",
        "    if b is None:\n",
        "      b = self.b\n",
        "    return 1.0 / ( 1.0 + np.exp(-(w * x + b )))\n",
        "  \n",
        "  def error(self, X, Y)"
      ],
      "execution_count": 0,
      "outputs": []
    }
  ]
}