{
  "nbformat": 4,
  "nbformat_minor": 0,
  "metadata": {
    "colab": {
      "name": "gradientDescent.ipynb",
      "provenance": [],
      "collapsed_sections": [],
      "include_colab_link": true
    },
    "kernelspec": {
      "name": "python3",
      "display_name": "Python 3"
    }
  },
  "cells": [
    {
      "cell_type": "markdown",
      "metadata": {
        "id": "view-in-github",
        "colab_type": "text"
      },
      "source": [
        "<a href=\"https://colab.research.google.com/github/aborundiya/NeuralNetwork/blob/master/gradientDescent.ipynb\" target=\"_parent\"><img src=\"https://colab.research.google.com/assets/colab-badge.svg\" alt=\"Open In Colab\"/></a>"
      ]
    },
    {
      "cell_type": "code",
      "metadata": {
        "id": "EbiWrcqzX9J-",
        "colab_type": "code",
        "colab": {}
      },
      "source": [
        "import numpy as np\n",
        "import matplotlib.pyplot  as plt\n"
      ],
      "execution_count": 0,
      "outputs": []
    },
    {
      "cell_type": "markdown",
      "metadata": {
        "id": "Vt9TMIA8sVPX",
        "colab_type": "text"
      },
      "source": [
        "$S_{w,b}(x)= \\frac{1}{1 + exp^-(w*x+b)}$"
      ]
    },
    {
      "cell_type": "code",
      "metadata": {
        "id": "h9m_94YuYA3x",
        "colab_type": "code",
        "colab": {}
      },
      "source": [
        "def sigmoid(w,b,x):\n",
        "  return 1/(1 + np.exp(-(w*x + b )))"
      ],
      "execution_count": 0,
      "outputs": []
    },
    {
      "cell_type": "code",
      "metadata": {
        "id": "Qq80gFnxsJ90",
        "colab_type": "code",
        "colab": {
          "base_uri": "https://localhost:8080/",
          "height": 269
        },
        "outputId": "81c43cb4-7bd9-4145-e21d-fd0e287a1bce"
      },
      "source": [
        "w = 0.6 #@param {type: \"slider\", min: -2 , max :2 ,step:0.1}\n",
        "b = -0.5 #@param {type: \"slider\", min: -5 , max :5 ,step :0.5}\n",
        "X = np.linspace(-10,10,100)\n",
        "Y = sigmoid(w,b,X)\n",
        "plt.plot(X,Y)\n",
        "plt.show()"
      ],
      "execution_count": 19,
      "outputs": [
        {
          "output_type": "display_data",
          "data": {
            "image/png": "[encoded data removed]",
            "text/plain": [
              "<Figure size 432x288 with 1 Axes>"
            ]
          },
          "metadata": {
            "tags": []
          }
        }
      ]
    },
    {
      "cell_type": "code",
      "metadata": {
        "id": "Xz_kHXIuYZLB",
        "colab_type": "code",
        "colab": {}
      },
      "source": [
        "def error(w, b,X, Y) :\n",
        "  err_factor = 0.0 \n",
        "  for x, y in zip(X,Y):\n",
        "    fx = sigmoid(w,b,x)\n",
        "    err_factor += 0.5 * (fx - y)**2 \n",
        "  return err_factor  \n"
      ],
      "execution_count": 0,
      "outputs": []
    },
    {
      "cell_type": "code",
      "metadata": {
        "id": "riX1hZV8Y5cN",
        "colab_type": "code",
        "colab": {}
      },
      "source": [
        "def grad_w(w,b,x,y):\n",
        "  fx = sigmoid(w,b,x)\n",
        "  return ((fx- y )* fx*(1-fx)*x)"
      ],
      "execution_count": 0,
      "outputs": []
    },
    {
      "cell_type": "code",
      "metadata": {
        "id": "Hadtx6FoZmW4",
        "colab_type": "code",
        "colab": {}
      },
      "source": [
        "def grad_b(w,b,x,y):\n",
        "  fx = sigmoid (w,b,x)\n",
        "  return ((fx-y)*fx*(1-fx))"
      ],
      "execution_count": 0,
      "outputs": []
    },
    {
      "cell_type": "code",
      "metadata": {
        "id": "ApXRXLOWZ2F0",
        "colab_type": "code",
        "colab": {}
      },
      "source": [
        "def gradient_descent():\n",
        "  w, b, eta = -2, -2, 1.0 \n",
        "  max_epochs = 10 \n",
        "  \n",
        "  for i in range(max_epochs):\n",
        "    dw, db = 0, 0\n",
        "    err.append(error(w,b,X,Y))\n",
        "    print(err[i])\n",
        "    plt.show()\n",
        "    for x, y in zip(X,Y):\n",
        "      dw = grad_w(w,b,x,y)\n",
        "      db = grad_b(w,b,x,y)\n",
        "    w = w + eta * dw \n",
        "    b = b + eta * db\n",
        "    "
      ],
      "execution_count": 0,
      "outputs": []
    },
    {
      "cell_type": "code",
      "metadata": {
        "id": "PssbpXYgcIXB",
        "colab_type": "code",
        "outputId": "34560808-bbec-4f5e-a62f-d2f6feaaf8f2",
        "colab": {
          "base_uri": "https://localhost:8080/",
          "height": 204
        }
      },
      "source": [
        "gradient_descent()"
      ],
      "execution_count": 0,
      "outputs": [
        {
          "output_type": "stream",
          "text": [
            "0.4158199010199929\n",
            "0.4158199010199929\n",
            "0.41583742701768106\n",
            "0.4158548072131051\n",
            "0.41587204372501757\n",
            "0.41588913862858456\n",
            "0.4159060939565397\n",
            "0.41592291170030077\n",
            "0.4159395938110505\n",
            "0.4159561422007835\n"
          ],
          "name": "stdout"
        }
      ]
    },
    {
      "cell_type": "code",
      "metadata": {
        "id": "CSk5cnM9csnU",
        "colab_type": "code",
        "colab": {}
      },
      "source": [
        ""
      ],
      "execution_count": 0,
      "outputs": []
    }
  ]
}