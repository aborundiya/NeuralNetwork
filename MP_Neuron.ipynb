{
  "nbformat": 4,
  "nbformat_minor": 0,
  "metadata": {
    "colab": {
      "name": "MP_Neuron.ipynb",
      "provenance": [],
      "include_colab_link": true
    },
    "kernelspec": {
      "name": "python3",
      "display_name": "Python 3"
    }
  },
  "cells": [
    {
      "cell_type": "markdown",
      "metadata": {
        "id": "view-in-github",
        "colab_type": "text"
      },
      "source": [
        "<a href=\"https://colab.research.google.com/github/aborundiya/NeuralNetwork/blob/master/MP_Neuron.ipynb\" target=\"_parent\"><img src=\"https://colab.research.google.com/assets/colab-badge.svg\" alt=\"Open In Colab\"/></a>"
      ]
    },
    {
      "cell_type": "markdown",
      "metadata": {
        "id": "rKgmOflR9EEo",
        "colab_type": "text"
      },
      "source": [
        "# Import all relevant Libraries "
      ]
    },
    {
      "cell_type": "code",
      "metadata": {
        "id": "0C429wqY8vMh",
        "colab_type": "code",
        "colab": {}
      },
      "source": [
        "import sklearn.datasets\n",
        "from sklearn.model_selection import train_test_split \n",
        "from sklearn.metrics import accuracy_score \n",
        "import numpy as np \n",
        "import pandas as pd \n",
        "import matplotlib.pyplot as plt \n",
        "import seaborn as sns \n",
        "sns.set()"
      ],
      "execution_count": 0,
      "outputs": []
    },
    {
      "cell_type": "markdown",
      "metadata": {
        "id": "mcImJL189uB3",
        "colab_type": "text"
      },
      "source": [
        "# Loading Datasets and data pre-processing specifically binarization for MN Neuron learning "
      ]
    },
    {
      "cell_type": "code",
      "metadata": {
        "id": "sNWLF2Qf9kUC",
        "colab_type": "code",
        "colab": {}
      },
      "source": [
        "breast_cancer = sklearn.datasets.load_breast_cancer()\n",
        "input_data = breast_cancer.data\n",
        "output_target = breast_cancer.target\n",
        "\n",
        "#Converting the data into DataFrames \n",
        "\n",
        "data = pd.DataFrame(input_data, columns = breast_cancer.feature_names)\n",
        "data['class']=breast_cancer.target \n",
        "\n",
        "#Creating Data and Target \n",
        "\n",
        "data_input = data.drop('class',axis=1)\n",
        "data_target = data['class']\n",
        "\n",
        "#Splitting the data in tran and test datasets with 10% test data, stratified with target output,  seed value to make the model deterministic\n",
        "input_train, input_test, target_train, target_test = train_test_split(data_input, data_target, test_size = 0.1, stratify = data_target, random_state = 1)\n",
        "\n",
        "#Binarization for usign the MP neuron model \n",
        "\n",
        "binarized_input_train = input_train.apply(pd.cut, bins = 2, labels = [1,0])\n",
        "binarized_input_test =  input_test.apply(pd.cut, bins =2 , labels = [1,0]) \n",
        "\n",
        "binarized_input_train = binarized_input_train.values \n",
        "binarized_input_test = binarized_input_test.values \n"
      ],
      "execution_count": 0,
      "outputs": []
    },
    {
      "cell_type": "markdown",
      "metadata": {
        "id": "CDj2j6pnCMxp",
        "colab_type": "text"
      },
      "source": [
        "# MP Neuron Class with Model, Fit and Predict functions "
      ]
    },
    {
      "cell_type": "code",
      "metadata": {
        "id": "HjzCtl4nCaHz",
        "colab_type": "code",
        "colab": {}
      },
      "source": [
        "class MPNeuron: \n",
        "  \n",
        "  def __init__(self):\n",
        "    self.b = None \n",
        "    \n",
        "  def model(self,inData): \n",
        "    return (sum(inData)>=self.b)\n",
        "  \n",
        "  def predict(self, inData):\n",
        "    output = []\n",
        "    \n",
        "    for i in inData:\n",
        "      result = self.model(i)\n",
        "      output.append(result)\n",
        "      \n",
        "    return np.array(output)\n",
        "  \n",
        "  def fit(self, inData, tgData): \n",
        "    accuracy = {}\n",
        "    for i in range (inData.shape[1] + 1):\n",
        "      self.b = i \n",
        "      y_pred = self.predict(inData)\n",
        "      accuracy[i] = accuracy_score(y_pred, tgData)\n",
        "      \n",
        "    best_b = max(accuracy, key = accuracy.get )\n",
        "    self.b = best_b \n",
        "    \n",
        "    print('best value of b is ', best_b)\n",
        "    print('optimal value of b', accuracy[self.b])\n",
        "      \n",
        "    \n",
        "    \n",
        "    \n",
        "    "
      ],
      "execution_count": 0,
      "outputs": []
    },
    {
      "cell_type": "markdown",
      "metadata": {
        "id": "-NJHhvTXwdxN",
        "colab_type": "text"
      },
      "source": [
        "#Training the model "
      ]
    },
    {
      "cell_type": "code",
      "metadata": {
        "id": "KVfGY_zEZB1t",
        "colab_type": "code",
        "outputId": "b6bae9a8-2180-4e2c-e2a6-8677493c085c",
        "colab": {
          "base_uri": "https://localhost:8080/",
          "height": 54
        }
      },
      "source": [
        "mp_neuron = MPNeuron()\n",
        "y_test_pred = mp_neuron.fit(binarized_input_train,target_train )\n"
      ],
      "execution_count": 16,
      "outputs": [
        {
          "output_type": "stream",
          "text": [
            "best value of b is  28\n",
            "optimal value of b 0.849609375\n"
          ],
          "name": "stdout"
        }
      ]
    },
    {
      "cell_type": "markdown",
      "metadata": {
        "id": "LgrSvZXtwiqS",
        "colab_type": "text"
      },
      "source": [
        "#Testing the model with the Test data and measuring the accuracy "
      ]
    },
    {
      "cell_type": "code",
      "metadata": {
        "id": "h-aC2EqRZn1v",
        "colab_type": "code",
        "colab": {
          "base_uri": "https://localhost:8080/",
          "height": 36
        },
        "outputId": "3a88993f-e88c-4881-fabc-907ed0fb29d6"
      },
      "source": [
        "y_test_predict = mp_neuron.predict(binarized_input_test)\n",
        "accuracy_test = accuracy_score(y_test_predict, target_test)\n",
        "print(accuracy_test)"
      ],
      "execution_count": 18,
      "outputs": [
        {
          "output_type": "stream",
          "text": [
            "0.7894736842105263\n"
          ],
          "name": "stdout"
        }
      ]
    },
    {
      "cell_type": "code",
      "metadata": {
        "id": "yQhh3KIHxgy_",
        "colab_type": "code",
        "colab": {}
      },
      "source": [
        ""
      ],
      "execution_count": 0,
      "outputs": []
    }
  ]
}