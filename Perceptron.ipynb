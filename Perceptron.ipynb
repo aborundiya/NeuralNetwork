{
  "nbformat": 4,
  "nbformat_minor": 0,
  "metadata": {
    "colab": {
      "name": "Perceptron.ipynb",
      "provenance": [],
      "collapsed_sections": [],
      "include_colab_link": true
    },
    "kernelspec": {
      "name": "python3",
      "display_name": "Python 3"
    }
  },
  "cells": [
    {
      "cell_type": "markdown",
      "metadata": {
        "id": "view-in-github",
        "colab_type": "text"
      },
      "source": [
        "<a href=\"https://colab.research.google.com/github/aborundiya/NeuralNetwork/blob/master/Perceptron.ipynb\" target=\"_parent\"><img src=\"https://colab.research.google.com/assets/colab-badge.svg\" alt=\"Open In Colab\"/></a>"
      ]
    },
    {
      "cell_type": "markdown",
      "metadata": {
        "id": "dTGTzYDxFypz",
        "colab_type": "text"
      },
      "source": [
        "#Importing the libraries needed for the model training, visualization "
      ]
    },
    {
      "cell_type": "code",
      "metadata": {
        "id": "UurAOp98FTnY",
        "colab_type": "code",
        "colab": {}
      },
      "source": [
        "import sklearn.datasets\n",
        "from sklearn.model_selection import train_test_split \n",
        "from sklearn.metrics import accuracy_score \n",
        "import numpy as np \n",
        "import pandas as pd \n",
        "import matplotlib.pyplot as plt \n",
        "import seaborn as sns \n",
        "sns.set()"
      ],
      "execution_count": 0,
      "outputs": []
    },
    {
      "cell_type": "markdown",
      "metadata": {
        "id": "jl4RGb9AGHAx",
        "colab_type": "text"
      },
      "source": [
        "#Importing Data Sets and pre-processing"
      ]
    },
    {
      "cell_type": "code",
      "metadata": {
        "id": "j1z8e-umFp8k",
        "colab_type": "code",
        "colab": {}
      },
      "source": [
        "#load the data set through the sklearn libraries. Segregate into input and output\n",
        "\n",
        "breast_cancer = sklearn.datasets.load_breast_cancer()\n",
        "input_data = breast_cancer.data\n",
        "output_data = breast_cancer.target \n"
      ],
      "execution_count": 0,
      "outputs": []
    },
    {
      "cell_type": "markdown",
      "metadata": {
        "id": "wn3cwNDtJ3RI",
        "colab_type": "text"
      },
      "source": [
        "#Converting Data into Pandas DataFrames "
      ]
    },
    {
      "cell_type": "code",
      "metadata": {
        "id": "sRLhN6tzI7F_",
        "colab_type": "code",
        "colab": {}
      },
      "source": [
        "data = pd.DataFrame(input_data,columns = breast_cancer.feature_names)\n",
        "data['class'] = output_data"
      ],
      "execution_count": 0,
      "outputs": []
    },
    {
      "cell_type": "markdown",
      "metadata": {
        "id": "bMuOrGhtKwrR",
        "colab_type": "text"
      },
      "source": [
        "#Creating the data as Input and Target \n",
        "#Splitting the data in Train and Test dataset"
      ]
    },
    {
      "cell_type": "code",
      "metadata": {
        "id": "6DDNtHQWKWot",
        "colab_type": "code",
        "colab": {}
      },
      "source": [
        "data_input = data.drop('class',axis=1)\n",
        "data_target = data['class']\n",
        "data_train, data_test, target_train, target_test = train_test_split(data_input, data_target, test_size = 0.2, stratify = data_target, random_state =1 )\n",
        "data_train = data_train.values \n",
        "data_test = data_test.values \n"
      ],
      "execution_count": 0,
      "outputs": []
    },
    {
      "cell_type": "code",
      "metadata": {
        "id": "hzJNS7qBLpOG",
        "colab_type": "code",
        "colab": {}
      },
      "source": [
        "class Perceptron:\n",
        "  \n",
        "  def __init__(self):\n",
        "    self.b = None \n",
        "    self.w = None \n",
        "    \n",
        "  def model(self, inData):\n",
        "    return 1 if (np.dot(self.w, inData) >= self.b) else 0\n",
        "  \n",
        "  def predict(self, inData):\n",
        "    output = []\n",
        "    for x in inData:\n",
        "      result = self.model(x)\n",
        "      output.append(result)    \n",
        "    return (np.array(output))\n",
        "      \n",
        "  def fit(self, inData, tgData, epochs = 1, lr = 1  ):\n",
        "    self.w = np.ones(inData.shape[1])\n",
        "    self.b = 0 \n",
        "    accuracy = {}\n",
        "    max_accuracy = 0\n",
        "    for i in range(epochs): \n",
        "      \n",
        "      for x,y in zip(inData,tgData): \n",
        "        y_pred = self.model(x)\n",
        "        if y == 1 and y_pred == 0:\n",
        "          #learning rate is applied to make gradual changes to the parameters\n",
        "          self.w = self.w + lr * x \n",
        "          self.b = self.b + lr * 1\n",
        "        elif y== 0 and y_pred == 1 :\n",
        "          self.w = self.w - lr * x \n",
        "          self.b = self.b - lr * 1\n",
        "        accuracy[i] = accuracy_score(self.predict(inData),tgData)\n",
        "        if (accuracy[i] > max_accuracy):\n",
        "          max_accuracy = accuracy[i]\n",
        "          \n",
        "          #we see lot of osillations in the acurracy curve and observe at the \n",
        "          #end of the last epoch we have model with lower accuracy then some \n",
        "          #accuracy in earlier epoch. to overcome this we wil introduce what \n",
        "          #is called as Checkpoint which is saving the parameters (w,b) for \n",
        "          #better accuracy and re-running epoch with these parameters. \n",
        "          \n",
        "          chkptw = self.w \n",
        "          chkptb = self.b\n",
        "          \n",
        "    self.w = chkptw\n",
        "    self.b = chkptb\n",
        "    print(max_accuracy)\n",
        "    plt.plot(accuracy.values())\n",
        "    plt.ylim([0,1])\n",
        "    plt.show()\n",
        "\n",
        "        \n",
        "      \n",
        "    "
      ],
      "execution_count": 0,
      "outputs": []
    },
    {
      "cell_type": "markdown",
      "metadata": {
        "id": "kAB8AMtqS16y",
        "colab_type": "text"
      },
      "source": [
        "#Training the models"
      ]
    },
    {
      "cell_type": "code",
      "metadata": {
        "id": "FW8DMbgbR5tA",
        "colab_type": "code",
        "colab": {
          "base_uri": "https://localhost:8080/",
          "height": 311
        },
        "outputId": "c33822e8-c550-4cf8-f6cf-eca4969df0aa"
      },
      "source": [
        "#Initialize the perceptron and train the model \n",
        "perceptron = Perceptron()\n",
        "perceptron.fit(data_train, target_train, 50,0.001)\n",
        "\n",
        "#Training Accuracy \n",
        "y_train_pred = perceptron.predict(data_train)\n",
        "print(accuracy_score (y_train_pred, target_train))"
      ],
      "execution_count": 82,
      "outputs": [
        {
          "output_type": "stream",
          "text": [
            "0.9208791208791208\n"
          ],
          "name": "stdout"
        },
        {
          "output_type": "display_data",
          "data": {
            "image/png": "[encoded data removed]",
            "text/plain": [
              "<Figure size 432x288 with 1 Axes>"
            ]
          },
          "metadata": {
            "tags": []
          }
        },
        {
          "output_type": "stream",
          "text": [
            "0.9208791208791208\n"
          ],
          "name": "stdout"
        }
      ]
    },
    {
      "cell_type": "markdown",
      "metadata": {
        "id": "pMdcY37CTgcO",
        "colab_type": "text"
      },
      "source": [
        "# Testing the Model Efficiecy with test data"
      ]
    },
    {
      "cell_type": "code",
      "metadata": {
        "id": "obiOsts6SD8P",
        "colab_type": "code",
        "colab": {
          "base_uri": "https://localhost:8080/",
          "height": 36
        },
        "outputId": "b4dbc9be-639f-4c08-9add-baff9687cbb3"
      },
      "source": [
        "y_test_pred = perceptron.predict(data_test)\n",
        "print(accuracy_score(y_test_pred,target_test))"
      ],
      "execution_count": 77,
      "outputs": [
        {
          "output_type": "stream",
          "text": [
            "0.9298245614035088\n"
          ],
          "name": "stdout"
        }
      ]
    },
    {
      "cell_type": "code",
      "metadata": {
        "id": "EWq8Xcj6Ttvz",
        "colab_type": "code",
        "colab": {}
      },
      "source": [
        ""
      ],
      "execution_count": 0,
      "outputs": []
    }
  ]
}